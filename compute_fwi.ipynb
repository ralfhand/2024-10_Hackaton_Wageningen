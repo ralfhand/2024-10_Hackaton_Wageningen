{
 "cells": [
  {
   "cell_type": "code",
   "execution_count": 1,
   "id": "f8928935-fb29-480c-a032-d3d378ade585",
   "metadata": {},
   "outputs": [],
   "source": [
    "from firedanger import firedanger\n",
    "import sys\n",
    "import matplotlib.pyplot as plt\n",
    "import numpy as np\n",
    "import xarray as xr\n",
    "from cartopy import crs as ccrs\n",
    "from cartopy import feature as cfeature"
   ]
  },
  {
   "cell_type": "code",
   "execution_count": null,
   "id": "f8255c52-5fa5-4916-b21d-ff37a413f741",
   "metadata": {},
   "outputs": [
    {
     "name": "stderr",
     "output_type": "stream",
     "text": [
      "INFO: Set up dimensions...\n",
      "WARNING: No regular grid found for dimension time.\n",
      "            Hint: use set_up(force=True).\n",
      "INFO: \n",
      " time: 'time'\n",
      " longitude: 'lon'\n",
      " latitude: 'lat'\n",
      "\n"
     ]
    },
    {
     "name": "stdout",
     "output_type": "stream",
     "text": [
      "delete existing fire object\n"
     ]
    },
    {
     "name": "stderr",
     "output_type": "stream",
     "text": [
      "/home/m/m300363/.conda/envs/firedanger_dev/lib/python3.8/site-packages/firedanger/indices.py:1150: RuntimeWarning: invalid value encountered in true_divide\n",
      "  (0.8 * dc * dmc) / (dmc + 0.4 * dc),\n",
      "/home/m/m300363/.conda/envs/firedanger_dev/lib/python3.8/site-packages/firedanger/indices.py:1152: RuntimeWarning: invalid value encountered in true_divide\n",
      "  dmc - (1.0 - 0.8 * dc / (dmc + 0.4 * dc)) * (0.92 + (0.0114 * dmc) ** 1.7),\n"
     ]
    }
   ],
   "source": [
    "workdir = \"/work/bb1153/m300363/fireweather_data/California/\"\n",
    "\n",
    "# infile = workdir + \"inputvars_ICON_ngc4008_California_025deg_2020-2049.nc\"\n",
    "# outfile = workdir + \"fwi_ICON_ngc4008_California_025deg_2020-2049.nc\"\n",
    "\n",
    "infile = workdir + \"inputvars_IFS_9-FESOM_5-production-hist_California_025deg_1990-2019.nc\"\n",
    "outfile = workdir + \"fwi_IFS_9-FESOM_5-production-hist_California_025deg_1990-2019.nc\"\n",
    "\n",
    "# infile = workdir + \"inputvars_IFS_9-FESOM_5-production_California_025deg_2020-2049.nc\"\n",
    "# outfile = workdir + \"fwi_IFS_9-FESOM_5-production_California_025deg_2020-2049.nc\"\n",
    "\n",
    "# infile = workdir + \"inputvars_IFS_9-FESOM_5-production_California_025deg_2025.nc\"\n",
    "# outfile = workdir + \"test.nc\"\n",
    "\n",
    "try:\n",
    "    fire\n",
    "except NameError:\n",
    "    print(\"fire object does not exist yet. Will be created in the next step\")\n",
    "else:\n",
    "    print(\"delete existing fire object\")\n",
    "    del fire\n",
    "\n",
    "fire = firedanger() \n",
    "fire.read_nc(infile)\n",
    "\n",
    "fire.calc_canadian_fwi(\"tas\",\"pr\",\"hurs\",\"wind_speed\")"
   ]
  },
  {
   "cell_type": "code",
   "execution_count": 3,
   "id": "476f0acb-6b72-4061-8ae1-87bf2a597d66",
   "metadata": {},
   "outputs": [],
   "source": [
    "dsout = xr.Dataset({\n",
    "    \"fwi\": ((\"time\", \"lat\", \"lon\"), fire.fwi , {\"units\": \"dimensionless\", \"long_name\": \"Canadian fire weather index\"}),\n",
    "    \"bui\": ((\"time\", \"lat\", \"lon\"), fire.bui , {\"units\": \"dimensionless\", \"long_name\": \"Build up index\"}),\n",
    "    \"isi\": ((\"time\", \"lat\", \"lon\"), fire.isi , {\"units\": \"dimensionless\", \"long_name\": \"Initial Spread index\"}),\n",
    "    \"dmc\": ((\"time\", \"lat\", \"lon\"), fire.dmc , {\"units\": \"dimensionless\", \"long_name\": \"Duff Moisture Code\"}),\n",
    "    \"dc\": ((\"time\", \"lat\", \"lon\"), fire.dc , {\"units\": \"dimensionless\", \"long_name\": \"Drought Code\"}),\n",
    "    \"ffmc\": ((\"time\", \"lat\", \"lon\"), fire.ffmc , {\"units\": \"dimensionless\", \"long_name\": \"Fine Fuel Moisture Code\"})},\n",
    "    coords={\n",
    "        \"time\": fire.fwi.time,\n",
    "        \"lat\": (\"lat\", fire.lat, {\"units\": \"degree_north\"}),\n",
    "        \"lon\": (\"lon\", fire.lon, {\"units\": \"degree_east\"}),\n",
    "        },)\n",
    "\n",
    "dsout.to_netcdf(outfile)"
   ]
  },
  {
   "cell_type": "code",
   "execution_count": null,
   "id": "c6f7ddfd-c5ff-4084-95c3-7283b948fd68",
   "metadata": {},
   "outputs": [],
   "source": []
  }
 ],
 "metadata": {
  "kernelspec": {
   "display_name": "firedanger_dev",
   "language": "python",
   "name": "firedanger_dev"
  },
  "language_info": {
   "codemirror_mode": {
    "name": "ipython",
    "version": 3
   },
   "file_extension": ".py",
   "mimetype": "text/x-python",
   "name": "python",
   "nbconvert_exporter": "python",
   "pygments_lexer": "ipython3",
   "version": "3.8.5"
  }
 },
 "nbformat": 4,
 "nbformat_minor": 5
}
