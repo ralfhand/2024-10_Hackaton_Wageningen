{
 "cells": [
  {
   "cell_type": "code",
   "execution_count": 32,
   "id": "f8928935-fb29-480c-a032-d3d378ade585",
   "metadata": {},
   "outputs": [],
   "source": [
    "from firedanger import firedanger\n",
    "import matplotlib.pyplot as plt\n",
    "import numpy as np\n",
    "import xarray as xr\n",
    "from cartopy import crs as ccrs\n",
    "from cartopy import feature as cfeature"
   ]
  },
  {
   "cell_type": "code",
   "execution_count": 33,
   "id": "fb2ee6c9-04f5-4642-b2ba-5405b1feaad3",
   "metadata": {},
   "outputs": [],
   "source": [
    "# %history -g -f history.txt"
   ]
  },
  {
   "cell_type": "code",
   "execution_count": 34,
   "id": "5655553c-3589-4d3b-bd08-4901f616dbf4",
   "metadata": {},
   "outputs": [],
   "source": [
    "del fire"
   ]
  },
  {
   "cell_type": "code",
   "execution_count": 68,
   "id": "8277ec3a-1afe-4fd8-9a82-e665db3cdf78",
   "metadata": {},
   "outputs": [],
   "source": [
    "workdir = \"/work/bb1153/m300363/fireweather_data/California/\"\n",
    "# infile = workdir + 'inputvars_ICON_ngc4008_California_025deg_2020-2049.nc'\n",
    "\n",
    "# infile = workdir + \"inputvars_ICON_ngc4008_California_025deg_2021.nc\"\n",
    "# outfile = workdir + \"fwi_test_ICON.nc\"\n",
    "\n",
    "infile = workdir + \"inputvars_IFS_9-FESOM_5-production_California_025deg_2023.nc\"\n",
    "outfile = workdir + \"fwi_test_IFS_9-FESOM_5_2023.nc\"\n",
    "\n",
    "# infile = workdir + \"allvars_2021.nc\"\n",
    "# outfile = workdir + \"test.nc\"\n",
    "\n",
    "# infile = workdir + \"out.nc\"\n",
    "# outfile = workdir + 'fwi_ICON_ngc4008_California_025deg_2020-2049.nc'\n",
    "\n",
    "# infile = workdir + \"testfiles_noemi/allvars_merged.nc\"\n",
    "# outfile =  workdir + \"testfiles_noemi/fwi.nc\"\n",
    "\n",
    "fire = firedanger() \n",
    "fire.read_nc(infile)"
   ]
  },
  {
   "cell_type": "code",
   "execution_count": 65,
   "id": "392c297d-bbe8-47ac-a5f8-389bdd91f11e",
   "metadata": {},
   "outputs": [
    {
     "name": "stdout",
     "output_type": "stream",
     "text": [
      "Help on method calc_canadian_fwi in module firedanger.firedanger:\n",
      "\n",
      "calc_canadian_fwi(temp, precip, hum, wind) method of firedanger.firedanger.firedanger instance\n",
      "    Calculate the Canadian Fire Weather Index \n",
      "    \n",
      "    Parameters\n",
      "    ----------\n",
      "    t: array\n",
      "        Noon temperature [C].\n",
      "    p : array\n",
      "        rainfall amount in open over previous 24 hours, at noon [mm].\n",
      "    w : array\n",
      "        Noon wind speed [m/s].\n",
      "    h : array\n",
      "        Noon relative humidity [%].\n",
      "    \n",
      "    Returns\n",
      "    -------\n",
      "    ds: xarray dataset\n",
      "        Components of the Canadian Fire Weather Index: ffmc, dmc, dc, isi, bui, fwi [dimensionless]\n",
      "    \n",
      "    To DO:\n",
      "    - latitude array as input --> does not yet work in indices._day_length\n",
      "      currently, lat = 47 (Switzerland)\n",
      "    - initial values of ffmc, dmc and dc\n",
      "    - cannot handle dask array yet: current solution is to load dataset\n",
      "\n"
     ]
    }
   ],
   "source": [
    "help(fire.calc_canadian_fwi)"
   ]
  },
  {
   "cell_type": "code",
   "execution_count": null,
   "id": "9907073b-f213-4a80-a5fd-96bc60c8c164",
   "metadata": {},
   "outputs": [],
   "source": [
    "# fire.tas\n",
    "\n",
    "# fire"
   ]
  },
  {
   "cell_type": "code",
   "execution_count": 69,
   "id": "1f013deb-d06d-4907-9dbb-4a90cc4201d6",
   "metadata": {},
   "outputs": [
    {
     "name": "stderr",
     "output_type": "stream",
     "text": [
      "INFO: Set up dimensions...\n",
      "INFO: \n",
      " time: 'time'\n",
      " longitude: 'lon'\n",
      " latitude: 'lat'\n",
      "\n",
      "/home/m/m300363/.conda/envs/firedanger_dev/lib/python3.8/site-packages/firedanger/indices.py:1148: RuntimeWarning: invalid value encountered in true_divide\n",
      "  (0.8 * dc * dmc) / (dmc + 0.4 * dc),\n",
      "/home/m/m300363/.conda/envs/firedanger_dev/lib/python3.8/site-packages/firedanger/indices.py:1150: RuntimeWarning: invalid value encountered in true_divide\n",
      "  dmc - (1.0 - 0.8 * dc / (dmc + 0.4 * dc)) * (0.92 + (0.0114 * dmc) ** 1.7),\n",
      "INFO: Calculating Canadian Fire Weather Index (ffmc, dmc, dc, isi, bui, fwi)... DONE\n"
     ]
    }
   ],
   "source": [
    "fire.calc_canadian_fwi(\"tas\",\"pr\",\"hurs\",\"wind_speed\")"
   ]
  },
  {
   "cell_type": "code",
   "execution_count": 70,
   "id": "476f0acb-6b72-4061-8ae1-87bf2a597d66",
   "metadata": {},
   "outputs": [],
   "source": [
    "dsout = xr.Dataset({\n",
    "    \"fwi\": ((\"time\", \"lat\", \"lon\"), fire.fwi , {\"units\": \"dimensionless\"}),\n",
    "    \"bui\": ((\"time\", \"lat\", \"lon\"), fire.bui , {\"units\": \"dimensionless\"}),\n",
    "    \"isi\": ((\"time\", \"lat\", \"lon\"), fire.isi , {\"units\": \"dimensionless\"}),\n",
    "    \"dmc\": ((\"time\", \"lat\", \"lon\"), fire.dmc , {\"units\": \"dimensionless\"}),\n",
    "    \"dc\": ((\"time\", \"lat\", \"lon\"), fire.dc , {\"units\": \"dimensionless\"}),\n",
    "    \"ffmc\": ((\"time\", \"lat\", \"lon\"), fire.ffmc , {\"units\": \"dimensionless\"})},\n",
    "    coords={\n",
    "        \"time\": fire.fwi.time,\n",
    "        \"lat\": (\"lat\", fire.lat, {\"units\": \"degree_north\"}),\n",
    "        \"lon\": (\"lon\", fire.lon, {\"units\": \"degree_east\"}),\n",
    "        },)\n",
    "\n",
    "dsout.to_netcdf(outfile)"
   ]
  },
  {
   "cell_type": "code",
   "execution_count": null,
   "id": "534eda28-fb02-43bd-9f0f-85a3e0dab6a3",
   "metadata": {},
   "outputs": [],
   "source": []
  },
  {
   "cell_type": "code",
   "execution_count": null,
   "id": "601a5d79-a787-44c4-abe3-7cb0732cd704",
   "metadata": {},
   "outputs": [],
   "source": []
  }
 ],
 "metadata": {
  "kernelspec": {
   "display_name": "firedanger_dev",
   "language": "python",
   "name": "firedanger_dev"
  },
  "language_info": {
   "codemirror_mode": {
    "name": "ipython",
    "version": 3
   },
   "file_extension": ".py",
   "mimetype": "text/x-python",
   "name": "python",
   "nbconvert_exporter": "python",
   "pygments_lexer": "ipython3",
   "version": "3.8.5"
  }
 },
 "nbformat": 4,
 "nbformat_minor": 5
}
