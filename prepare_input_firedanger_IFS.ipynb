{
 "cells": [
  {
   "cell_type": "markdown",
   "id": "da86b526-cfa7-417d-89d7-9a2783aabe39",
   "metadata": {},
   "source": [
    "This notebook preprocesses the IFS data to create input files for the firedanger tool written by Daniel Steinfeld. The preprocessing includes the selection of subregions, the time period, and variables and the interpolation from Healpix format to a lon-lat grid. Customization can be done in the first cell."
   ]
  },
  {
   "cell_type": "code",
   "execution_count": 1,
   "id": "9504dde9-de9d-4b9c-a2b5-81841eb26e94",
   "metadata": {},
   "outputs": [],
   "source": [
    "# %history -g -f history.txt"
   ]
  },
  {
   "cell_type": "code",
   "execution_count": 2,
   "id": "b21e2e8e-4052-412e-b734-8a182d64f6ae",
   "metadata": {},
   "outputs": [],
   "source": [
    "if __name__ == \"__main__\":\n",
    "\n",
    "    # customize inputs\n",
    "\n",
    "    exp_id = \"IFS_9-FESOM_5-production\"\n",
    "\n",
    "    # time = \"2D_hourly_healpix512_2020s\"\n",
    "    time = \"2D_hourly_0.25deg\"\n",
    "\n",
    "    lon_min = 10.            # region to be selected (as lon/lat, use negative values for western/southern hemisphere)\n",
    "    lon_max = 20.\n",
    "    lat_min = 40.\n",
    "    lat_max = 50.\n",
    "\n",
    "    interpol_method=\"cubic\"    # choose one out of nearest, linear, cubic \n",
    "\n",
    "    time_min = \"2020-01-02\"    # first date to be selected as YYYY-MM-DD (do not use 2020-01-01)\n",
    "    time_max = \"2020-03-01\"    # last date to be selected as YYYY-MM-DD\n",
    "\n",
    "    res_out_x = 2              # resolution of the interpolated files in degree lon\n",
    "    res_out_y = res_out_x      # resolution of the interpolated files in degree lat\n",
    "\n",
    "    dir_out = \"/home/m/m300363/Next-GEMS/2024-10_Hackaton_Wageningen/\"\n",
    "    \n",
    "    filename_out = dir_out + \"test_IFS.nc\""
   ]
  },
  {
   "cell_type": "code",
   "execution_count": 3,
   "id": "5ca22c98-fbdb-4d6b-ad1e-c29780977ad1",
   "metadata": {},
   "outputs": [],
   "source": [
    "    # !module use /work/k20200/k202134/hsm-tools/outtake/module; module load python3/hamburg-hackathon; python -m ipykernel install --name python-HH-hackathon --user"
   ]
  },
  {
   "cell_type": "code",
   "execution_count": 4,
   "id": "11aaf0cd-d4a7-4f39-8648-33a0b9f4d7cf",
   "metadata": {},
   "outputs": [],
   "source": [
    "# import libraries\n",
    "\n",
    "import sys\n",
    "import objsize\n",
    "import intake\n",
    "import dask\n",
    "from dask.diagnostics import ProgressBar\n",
    "from multiprocessing import Pool, Manager, cpu_count, current_process\n",
    "import pandas as pd\n",
    "# import functools\n",
    "import itertools\n",
    "import gribscan\n",
    "import eccodes\n",
    "# import cmocean\n",
    "import metpy.calc\n",
    "from metpy import units, calc\n",
    "# import healpy\n",
    "import xarray as xr\n",
    "import numpy as np\n",
    "from scipy import interpolate\n",
    "from datetime import datetime\n",
    "from matplotlib import pyplot as plt\n",
    "from cartopy import crs as ccrs\n",
    "from cartopy import feature as cfeature\n",
    "# import logging\n",
    "# from collections.abc import Iterable"
   ]
  },
  {
   "cell_type": "code",
   "execution_count": 5,
   "id": "93c8fbb9-2bf9-42d2-80a6-f329f3d183eb",
   "metadata": {},
   "outputs": [],
   "source": [
    "# define functions\n",
    "\n",
    "# def default_kwargs(**defaultKwargs):\n",
    "#     def actual_decorator(fn):\n",
    "#         @functools.wraps(fn)\n",
    "#         def g(*args, **kwargs):\n",
    "#             defaultKwargs.update(kwargs)\n",
    "#             return fn(*args, **defaultKwargs)\n",
    "#         return g\n",
    "#     return actual_decorator\n",
    "\n",
    "def attach_coords(ds):\n",
    "    model_lon = ds.lon.values\n",
    "    model_lat = ds.lat.values\n",
    "    return ds.assign_coords(\n",
    "        lat = ((\"value\",), model_lat, {\"units\": \"degree_north\"}),\n",
    "        lon = ((\"value\",), model_lon, {\"units\": \"degree_east\"}),\n",
    "    )\n",
    "    \n",
    "def compute_lhour(ds):\n",
    "          \n",
    "   lhour1 = 0 * ds.tp + ds.time.dt.hour + np.round(24/360*ds.lon)\n",
    "   lhour2 = lhour1.where(lhour1>=0,lhour1+24)\n",
    "   lhour3 = lhour2.where(lhour2<24,lhour2-24)\n",
    "    \n",
    "   return lhour3\n",
    "\n",
    "\n",
    "# def compute_noonvals(ds,arrayname,varname):\n",
    "\n",
    "#    # print(\"select noon values for ds: \" + str(ds) + \", varname: \" + varname +\". output will be appended to \" + arrayname)\n",
    "   \n",
    "#    lhour=compute_lhour(ds)\n",
    "#    sel = np.where((lhour == 11) | (lhour == 12) | (lhour == 13),1,0)\n",
    "#    # var_sel = eval(\"ds.\" + varname + \"* sel\")\n",
    "#    var_sel = ds[varname] * sel\n",
    "#    arrayname[varname] = var_sel.resample(time=\"D\").sum()\n",
    "    \n",
    "#    return arrayname[varname]\n",
    "\n",
    "def compute_noonvals(ds,varname):\n",
    "\n",
    "    # print(\"select noon values for ds: \" + str(ds) + \", varname: \" + varname +\". output will be appended to \" + arrayname)\n",
    "    \n",
    "    lhour=compute_lhour(ds)\n",
    "    sel = np.where((lhour == 11) | (lhour == 12) | (lhour == 13),1,0)\n",
    "    # var_sel = eval(\"ds.\" + varname + \"* sel\")\n",
    "    var_sel = ds[varname] * sel\n",
    "    noonvals = var_sel.resample(time=\"D\").sum()\n",
    "\n",
    "    del lhour,sel,var_sel\n",
    "    \n",
    "    print(\"noonvals for \",varname, \" computed on \", current_process(),flush=True)\n",
    "    \n",
    "    return varname, noonvals\n",
    "\n",
    "\n",
    "# @default_kwargs(interpol_method=\"linear\")\n",
    "def interpolate_healpy2lonlat(input_array,output_array,varname,inlon,inlat,outlon,outlat,*args,**kwargs):\n",
    " \n",
    "    print(\"interpolation method: \",interpol_method, flush=True)    \n",
    "    \n",
    "    outgrid=np.meshgrid(outlon,outlat)\n",
    "\n",
    "    values_interpolated=np.empty((np.shape(input_array)[0],len(outlat),len(outlon)))\n",
    "\n",
    "    i=0\n",
    "\n",
    "    for date in input_array.time:\n",
    "        values_tsel=input_array.sel(time=date) # .drop(time)\n",
    "        values_interpolated[i][:][:] =  interpolate.griddata((inlon,inlat), values_tsel, (outgrid[0][:][:],outgrid[1][:][:]), method=interpol_method)\n",
    "        i += 1\n",
    "\n",
    "    output_array[varname] = values_interpolated\n",
    "\n",
    "    del values_interpolated\n",
    "\n",
    "    print(\"interpolation to lon-lat for \",varname, \" computed on \", current_process(),flush=True)\n",
    "    \n",
    "    return output_array[varname]"
   ]
  },
  {
   "cell_type": "code",
   "execution_count": 6,
   "id": "7a689b7c-067a-40ce-9dcb-e2892a01a77a",
   "metadata": {},
   "outputs": [
    {
     "name": "stderr",
     "output_type": "stream",
     "text": [
      "/home/m/m300363/.conda/envs/hackaton_wageningen_2024/lib/python3.12/site-packages/intake_xarray/base.py:21: FutureWarning: The return type of `Dataset.dims` will be changed to return a set of dimension names in future, in order to be more consistent with `DataArray.dims`. To access a mapping from dimension names to lengths, please use `Dataset.sizes`.\n",
      "  'dims': dict(self._ds.dims),\n"
     ]
    }
   ],
   "source": [
    "if __name__ == \"__main__\":\n",
    "\n",
    "    # load data\n",
    "\n",
    "    cat = intake.open_catalog(\"https://data.nextgems-h2020.eu/catalog.yaml\")\n",
    "    experiment = cat.IFS[exp_id][time]\n",
    "\n",
    "    # print(list(cat.IFS))\n",
    "    # print()\n",
    "    # print(list(cat.IFS[exp_id])) \n",
    "\n",
    "    ds = experiment(chunks=\"auto\").to_dask().pipe(attach_coords)\n",
    "\n",
    "    # [(x, ds[x].attrs.get(\"name\")) for x in ds ]"
   ]
  },
  {
   "cell_type": "code",
   "execution_count": 7,
   "id": "7ae2aecf-ffc1-4372-9c8c-7241cbb23f28",
   "metadata": {},
   "outputs": [],
   "source": [
    "if __name__ == \"__main__\":\n",
    "\n",
    "    # select region & pick (almost) noon-values for 3-hourly data\n",
    "\n",
    "    # disclaimer: for time zones that do not have 12:00:00 values be relaxed by +/-1 hour\n",
    "\n",
    "    ds.lon[ds.lon>180]=ds.lon[ds.lon>180]-360\n",
    "    ds_reg=ds.sel(time=slice(time_min,time_max)).where((ds.lon > lon_min) & (ds.lon < lon_max) & (ds.lat > lat_min) & (ds.lat < lat_max),drop=True)\n",
    "\n",
    "    del ds"
   ]
  },
  {
   "cell_type": "code",
   "execution_count": 8,
   "id": "4f013712-05f2-4ce9-8947-313d67d7b666",
   "metadata": {},
   "outputs": [],
   "source": [
    "if __name__ == \"__main__\":\n",
    "\n",
    "    maxpoolsize = 6\n",
    "\n",
    "    varlist = ['2t','2d','sp','tp','10u','10v']\n",
    "    # varlist = ['2t','2d','sp','tp','10u']\n",
    "    # varlist = ['2t','2d','sp','tp']\n",
    "\n",
    "    poolsize = max(len(varlist),maxpoolsize)\n",
    "\n",
    "    manager=Manager()\n",
    "    noonvals=manager.dict()"
   ]
  },
  {
   "cell_type": "code",
   "execution_count": 9,
   "id": "94e307bb-4f0f-402a-8ccd-42db43e5d0bf",
   "metadata": {},
   "outputs": [],
   "source": [
    "# iterable = itertools.zip_longest(itertools.repeat(ds_reg,len(varlist)),itertools.repeat(noonvals,len(varlist)),varlist)"
   ]
  },
  {
   "cell_type": "code",
   "execution_count": 10,
   "id": "8fc370a4-6c1c-49e8-a8a9-c995c329d0c5",
   "metadata": {},
   "outputs": [
    {
     "name": "stdout",
     "output_type": "stream",
     "text": [
      "noonvals for  2t  computed on  <ForkProcess name='ForkPoolWorker-2' parent=678936 started daemon>\n",
      "noonvals for  10u  computed on  <ForkProcess name='ForkPoolWorker-3' parent=678936 started daemon>\n",
      "noonvals for  2d  computed on  <ForkProcess name='ForkPoolWorker-2' parent=678936 started daemon>\n",
      "noonvals for  10v  computed on  <ForkProcess name='ForkPoolWorker-3' parent=678936 started daemon>\n",
      "noonvals for  sp  computed on  <ForkProcess name='ForkPoolWorker-2' parent=678936 started daemon>\n",
      "noonvals for  tp  computed on  <ForkProcess name='ForkPoolWorker-2' parent=678936 started daemon>\n"
     ]
    }
   ],
   "source": [
    "if __name__ == \"__main__\":\n",
    "    \n",
    "    # for var in varlist:\n",
    "    #    compute_noonvals(ds_reg,noonvals,var)\n",
    "\n",
    "    # with Pool(poolsize) as p:\n",
    "   \n",
    "    #    print(current_process())\n",
    "    #    # p.starmap(compute_noonvals,iterable)\n",
    "\n",
    "    def testfunc(a,b):\n",
    "        out = \"hippo, \" + a + \", \" + b + \", \" + str(current_process()) \n",
    "        print(\"hippo\",a,b,current_process())\n",
    "        return b, out\n",
    "\n",
    "    with Pool(poolsize) as pool:\n",
    "        iterable = itertools.zip_longest(itertools.repeat(ds_reg,len(varlist)),varlist)\n",
    "        # chunks = chunk(list_a, multiprocessing.cpu_count())    \n",
    "        for instance in pool.starmap(compute_noonvals, [ step for step in iterable ],chunksize=4):\n",
    "            output = instance\n",
    "            noonvals[instance[0]] = instance[1]\n",
    "            del output"
   ]
  },
  {
   "cell_type": "code",
   "execution_count": 13,
   "id": "c76c6aaa-cbf0-4c32-bded-22245211d8ec",
   "metadata": {},
   "outputs": [],
   "source": [
    "# print(asizeof.asizeof(noonvals[\"2t\"].values))\n",
    "# print(sys.getsizeof(noonvals))\n",
    "# objsize.get_deep_size(noonvals)\n",
    "\n",
    "# help(objsize)"
   ]
  },
  {
   "cell_type": "code",
   "execution_count": 14,
   "id": "24ba8200-19c0-41b0-a170-51999a2fd06e",
   "metadata": {},
   "outputs": [],
   "source": [
    "# objsize.get_deep_size(ds_reg)"
   ]
  },
  {
   "cell_type": "code",
   "execution_count": 15,
   "id": "a9892e57-83d4-40ea-906a-6907fc75c7a2",
   "metadata": {},
   "outputs": [],
   "source": [
    "if __name__ == \"__main__\":\n",
    "\n",
    "    # compute wind speed from uas and vas\n",
    "\n",
    "    uas_unit = units.units(ds_reg['10u'].attrs.get(\"units\"))\n",
    "    vas_unit = units.units(ds_reg['10v'].attrs.get(\"units\"))\n",
    "    pr_unit = units.units(ds_reg['tp'].attrs.get(\"units\"))\n",
    "\n",
    "    noonvals['wind_speed'] = calc.wind_speed(noonvals['10u'] * uas_unit ,noonvals['10v'] * vas_unit)"
   ]
  },
  {
   "cell_type": "code",
   "execution_count": 16,
   "id": "31a3bfc5-9ee2-4209-b015-67ac79c9f0dd",
   "metadata": {},
   "outputs": [],
   "source": [
    "if __name__ == \"__main__\":\n",
    "\n",
    "    # compute relative humidity from specific humidity\n",
    "\n",
    "    dewpoint_unit = units.units(ds_reg['2d'].attrs.get(\"units\"))\n",
    "    tas_unit = units.units(ds_reg['2t'].attrs.get(\"units\"))\n",
    "\n",
    "    noonvals['hurs'] = calc.relative_humidity_from_dewpoint(noonvals['2t'] * tas_unit, noonvals['2d'] * dewpoint_unit)"
   ]
  },
  {
   "cell_type": "code",
   "execution_count": 17,
   "id": "e28bedd9-76e5-4039-b031-caf10e1736e6",
   "metadata": {},
   "outputs": [],
   "source": [
    "if __name__ == \"__main__\":\n",
    "    \n",
    "    # interpolate data to lon-lat grid\n",
    "\n",
    "    inlon = np.asarray(ds_reg.lon)\n",
    "    inlat = np.asarray(ds_reg.lat)\n",
    "    outlon = np.arange(lon_min,lon_max + res_out_x, res_out_x, dtype=float)\n",
    "    outlat = np.arange(lat_min,lat_max + res_out_y, res_out_y, dtype=float)\n",
    "\n",
    "    maxpoolsize = 6\n",
    "    poolsize = max(len(varlist),maxpoolsize)\n",
    "\n",
    "    varlist = ['2t','tp','10u','10v','wind_speed','hurs']\n",
    "\n",
    "    manager=Manager()\n",
    "    outvars_interpolated=manager.dict()\n",
    "\n",
    "    # for var in varlist:\n",
    "    #     interpolate_healpy2lonlat(noonvals[var],outvars_interpolated,var,inlon,inlat,outlon,outlat,print(\"interpol_method=\" + interpol_method))"
   ]
  },
  {
   "cell_type": "code",
   "execution_count": 18,
   "id": "aecc2c72-496b-4664-a615-2c8d713e2d2c",
   "metadata": {},
   "outputs": [
    {
     "name": "stdout",
     "output_type": "stream",
     "text": [
      "interpol_method=cubic\n",
      "interpolation method:  cubic\n",
      "interpolation method:  cubic\n",
      "interpolation to lon-lat for  2t  computed on  <ForkProcess name='ForkPoolWorker-9' parent=678936 started daemon>\n",
      "interpolation method:  cubic\n",
      "interpolation to lon-lat for  tp  computed on  <ForkProcess name='ForkPoolWorker-9' parent=678936 started daemon>\n",
      "interpolation method:  cubic\n",
      "interpolation to lon-lat for  wind_speed  computed on  <ForkProcess name='ForkPoolWorker-10' parent=678936 started daemon>\n",
      "interpolation method:  cubic\n",
      "interpolation to lon-lat for  10u  computed on  <ForkProcess name='ForkPoolWorker-9' parent=678936 started daemon>\n",
      "interpolation method:  cubic\n",
      "interpolation to lon-lat for  hurs  computed on  <ForkProcess name='ForkPoolWorker-10' parent=678936 started daemon>\n",
      "interpolation to lon-lat for  10v  computed on  <ForkProcess name='ForkPoolWorker-9' parent=678936 started daemon>\n"
     ]
    }
   ],
   "source": [
    "if __name__ == \"__main__\":\n",
    "\n",
    "    with Pool(poolsize) as p:\n",
    "\n",
    "        iterable = itertools.zip_longest(\n",
    "            [ noonvals[var] for var in varlist ],\n",
    "            itertools.repeat(outvars_interpolated,len(varlist)),\n",
    "            [ var for var in varlist ],\n",
    "            itertools.repeat(inlon,len(varlist)),\n",
    "            itertools.repeat(inlat,len(varlist)),\n",
    "            itertools.repeat(outlon,len(varlist)),\n",
    "            itertools.repeat(outlat,len(varlist)),\n",
    "            itertools.repeat(print(\"interpol_method=\" + interpol_method),len(varlist))\n",
    "          )\n",
    "\n",
    "        # print(list(iterable))\n",
    "    \n",
    "        p.starmap(interpolate_healpy2lonlat,iterable,chunksize=4)"
   ]
  },
  {
   "cell_type": "code",
   "execution_count": 21,
   "id": "629a8384-5ec7-49ae-b954-8256e824a3bb",
   "metadata": {},
   "outputs": [],
   "source": [
    "if __name__ == \"__main__\":\n",
    "\n",
    "    dsout = xr.Dataset({\n",
    "        \"tas\": ((\"time\", \"lat\", \"lon\"), outvars_interpolated[\"2t\"] - 273.15 , {\"units\": \"degC\"}),\n",
    "        \"wind_speed\": ((\"time\", \"lat\", \"lon\"), outvars_interpolated[\"wind_speed\"], {\"units\": str(tas_unit)}),\n",
    "        \"uas\": ((\"time\", \"lat\", \"lon\"), outvars_interpolated[\"10u\"], {\"units\": str(uas_unit)}),\n",
    "        \"vas\": ((\"time\", \"lat\", \"lon\"), outvars_interpolated[\"10v\"], {\"units\": str(vas_unit)}),\n",
    "        \"pr\": ((\"time\", \"lat\", \"lon\"), outvars_interpolated[\"tp\"], {\"units\": str(pr_unit)}),\n",
    "        \"hurs\": ((\"time\", \"lat\", \"lon\"), outvars_interpolated[\"hurs\"], {\"units\": \"1\"})},\n",
    "        coords={\n",
    "        \"time\": [ datetime.strptime(np.datetime_as_string(x,unit=\"D\") + \"T12:00:00\", \"%Y-%m-%dT%H:%M:%S\") for x in noonvals[\"2t\"].time ], \n",
    "        \"lat\": (\"lat\", outlat, {\"units\": \"degree_north\"}),\n",
    "        \"lon\": (\"lon\", outlon, {\"units\": \"degree_east\"}),\n",
    "        },)\n",
    "\n",
    "    dsout.to_netcdf(filename_out)"
   ]
  },
  {
   "cell_type": "code",
   "execution_count": 20,
   "id": "71c17802-dff3-42a7-9637-4b1cd53986fb",
   "metadata": {},
   "outputs": [
    {
     "name": "stderr",
     "output_type": "stream",
     "text": [
      "/home/m/m300363/.conda/envs/hackaton_wageningen_2024/lib/python3.12/site-packages/cartopy/mpl/geoaxes.py:1642: UserWarning: The following kwargs were not used by contour: 'add_colorbar', 'cbar_label', 'scalefac'\n",
      "  result = super().contourf(*args, **kwargs)\n"
     ]
    },
    {
     "data": {
      "image/png": "[encoded data removed]",
      "text/plain": [
       "<Figure size 1000x1000 with 2 Axes>"
      ]
     },
     "metadata": {},
     "output_type": "display_data"
    }
   ],
   "source": [
    "if __name__ == \"__main__\":\n",
    "\n",
    "    plotval=dsout.hurs[1][:][:] # -273.15\n",
    "    lon=dsout.lon\n",
    "    lat=dsout.lat\n",
    "\n",
    "    plot_args = {\n",
    "        # \"levels\": (tuple(np.arange(-30,31,2))),\n",
    "        \"cmap\": plt.cm.coolwarm,\n",
    "        \"extend\": 'both',\n",
    "        \"cbar_label\": 'degC',\n",
    "        \"scalefac\": 1\n",
    "        }\n",
    "\n",
    "    #-- create figure and axes instances\n",
    "    dpi = 100\n",
    "    fig = plt.figure(figsize=(1000/dpi, 1000/dpi), dpi=dpi)\n",
    "\n",
    "    min_lon = -180\n",
    "    max_lon = 180\n",
    "    min_lat = -80\n",
    "    max_lat = 80\n",
    "\n",
    "    proj=ccrs.PlateCarree()\n",
    "\n",
    "    ax = plt.axes(projection=proj)\n",
    "    # ax = plt.axes(projection=ccrs.AlbersEqualArea())\n",
    "    # ax = plt.axes(projection=ccrs.PlateCarree())\n",
    "    ax.set_xticks(range(int(min_lon),int(max_lon)+30,10))\n",
    "    ax.set_yticks(range(int(min_lat),int(max_lat)+30,10))\n",
    "    ax.tick_params(axis=\"both\",labelsize=15)\n",
    "    # ax.set_extent([min_lon, max_lon, min_lat, max_lat]) # setting the borders of our map\n",
    "   \n",
    "    #-- draw coastlines, state and country boundaries, edge of map\n",
    "    ax.add_feature(cfeature.COASTLINE)\n",
    "    \n",
    "    contourplot = ax.contourf(lon,lat,plot_args[\"scalefac\"]*plotval,transform=proj,add_colorbar=False,**plot_args) # ,**cluster_plot_args,add_colorbar=False)\n",
    "    cbar = plt.colorbar(contourplot,orientation='horizontal',pad=0.05,aspect=50,ax=ax)"
   ]
  },
  {
   "cell_type": "code",
   "execution_count": null,
   "id": "4aa4f939-542c-426a-b977-f59b23455c09",
   "metadata": {},
   "outputs": [],
   "source": []
  }
 ],
 "metadata": {
  "kernelspec": {
   "display_name": "hackaton_wageningen_2024",
   "language": "python",
   "name": "hackaton_wageningen_2024"
  },
  "language_info": {
   "codemirror_mode": {
    "name": "ipython",
    "version": 3
   },
   "file_extension": ".py",
   "mimetype": "text/x-python",
   "name": "python",
   "nbconvert_exporter": "python",
   "pygments_lexer": "ipython3",
   "version": "3.12.4"
  }
 },
 "nbformat": 4,
 "nbformat_minor": 5
}
